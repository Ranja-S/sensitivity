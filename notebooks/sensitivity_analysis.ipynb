{
 "cells": [
  {
   "cell_type": "markdown",
   "metadata": {},
   "source": [
    "# Power Analysis"
   ]
  },
  {
   "cell_type": "markdown",
   "metadata": {},
   "source": [
    "Power analysis is a tool to estimate the minimum sample size required in order to detect an effect in a test. \n",
    "\n",
    "Sample is a part of a population that helps draw inferences about the entire population. Collecting complete information about the population is time-consuming and expensive and sometimes not even possible. Thus, we need an appropriate sample size to infer about the population based on that sample, in other words a sample representative of the population. \n",
    "\n",
    "An approach of calculating the sample size is based on effect size. \n",
    "\n",
    "We can estimate a sample size given the significance level (alpha) and power which is the probability of rejecting null hypothesis (accepting alternative hypothesis) or of detection of an effect, quantified by a size called effect size. It has been observed that larger sample sizes have the capability to detect small effects."
   ]
  },
  {
   "cell_type": "code",
   "execution_count": 2,
   "metadata": {},
   "outputs": [
    {
     "data": {
      "image/png": "[encoded data removed]",
      "text/plain": [
       "<Figure size 432x288 with 1 Axes>"
      ]
     },
     "metadata": {
      "needs_background": "light"
     },
     "output_type": "display_data"
    }
   ],
   "source": [
    "from matplotlib import pyplot\n",
    "import statsmodels \n",
    "from statsmodels.stats.power import TTestIndPower\n",
    "from numpy import array\n",
    "\n",
    "#Considering small and moderate effect sizes (es)\n",
    "effect_sizes = array([0.25, 0.5])\n",
    "sample_sizes = array(range(50, 500))\n",
    "\n",
    "PowerAns = TTestIndPower()\n",
    "#PowerAns.solve_power(effect, power, ratio = 1.0, alpha)\n",
    "PowerAns.plot_power(dep_var = 'nobs', nobs = sample_sizes, effect_size = effect_sizes)\n",
    "pyplot.xlabel('Dataset size') \n",
    "pyplot.ylabel('Power')\n",
    "pyplot.title('Power curve')\n",
    "pyplot.grid()\n",
    "pyplot.show()"
   ]
  },
  {
   "cell_type": "markdown",
   "metadata": {},
   "source": [
    "# Sensitivity Analysis (Classification)"
   ]
  },
  {
   "cell_type": "markdown",
   "metadata": {},
   "source": [
    "Sensitivity analysis provides an approach to quantifying the relationship between model performance and sample data size \n",
    "for a given problem and prediction algorithm. \n",
    "Datasets may be too small to effectively capture the capability of machine learning model at a larger scale or there may be a point where  data augmentation may not improve model performance. A learning curve yields the sensitivity of performance to size of data the model is trained with. "
   ]
  },
  {
   "cell_type": "code",
   "execution_count": null,
   "metadata": {},
   "outputs": [],
   "source": [
    "from matplotlib import pyplot\n",
    "from sklearn.datasets import make_classification\n",
    "from sklearn.model_selection import cross_val_score\n",
    "from sklearn.model_selection import RepeatedStratifiedKFold\n",
    "from sklearn.tree import DecisionTreeClassifier\n",
    "\n",
    "#Considering binary classification dataset and nonlinear predictive model (Decision Tree)\n",
    "def load_dataset(n_samples):\n",
    "    \"\"\" Prepare dataset of a given size \"\"\"\n",
    "    \n",
    "    X, y = make_classification(n_samples = int(n_samples), n_features = 20, random_state = 1)\n",
    "    return X, y\n",
    "\n",
    "def evaluate_model(X, y):\n",
    "    \"\"\" Model evaluated on training data, returning mean (standard deviation) as model accuracy \"\"\"\n",
    "    \n",
    "    cv = RepeatedStratifiedKFold(n_splits = 10, n_repeats = 3, random_state = 1)\n",
    "    model = DecisionTreeClassifier()\n",
    "    scores = cross_val_score(model, X, y, scoring = 'accuracy', cv = cv, n_jobs = -1)\n",
    "    return [scores.mean(), scores.std()]\n",
    "\n",
    "#consider a range of data sizes depending on the runtime you're willing to spend\n",
    "sizes = [1000, 5000, 10000, 50000, 100000, 500000, 900000]\n",
    "\n",
    "means, stds = list(), list()\n",
    "for n_samples in sizes:\n",
    "    X, y = load_dataset(n_samples)\n",
    "    mean, std = evaluate_model(X, y)\n",
    "    means.append(mean)\n",
    "    stds.append(std)\n",
    "    \n",
    "#PLOT (on logX scale)\n",
    "err = [min(1, s*2) for s in stds]       #define error bar as 2 standard deviations from mean\n",
    "pyplot.errorbar(sizes, means, yerr = err, fmt = '-o')\n",
    "ax = pyplot.gca()\n",
    "ax.set_xscale(\"log\", nonpositive = 'clip')\n",
    "pyplot.ylim([0.95,1.0])\n",
    "pyplot.xlabel('Data size')\n",
    "pyplot.ylabel('Performance')\n",
    "pyplot.title('Learning curve')\n",
    "pyplot.grid()\n",
    "pyplot.show()"
   ]
  },
  {
   "cell_type": "markdown",
   "metadata": {},
   "source": [
    "# Sensitivity Analysis (Regression)"
   ]
  },
  {
   "cell_type": "code",
   "execution_count": null,
   "metadata": {},
   "outputs": [],
   "source": [
    "from matplotlib import pyplot\n",
    "from sklearn.datasets import make_regression\n",
    "from xgboost import XGBRegressor\n",
    "from sklearn.model_selection import cross_val_score\n",
    "\n",
    "#Considering boosted predictive model (XGB)\n",
    "def load_dataset(n_samples):\n",
    "    \"\"\" Prepare dataset of a given size \"\"\"\n",
    "    \n",
    "    X, y, x1 = make_regression(n_samples = int(n_samples), n_features = 5, n_targets = 1, coef = True, random_state = 1)\n",
    "    return X, y\n",
    "\n",
    "def evaluate_model(X, y):\n",
    "    \"\"\" Model evaluated on training data, returning mean (standard deviation) as model accuracy \"\"\"\n",
    "      \n",
    "    model = XGBRegressor()\n",
    "    scores = cross_val_score(model, X, y, cv = 5, scoring = 'r2', n_jobs = -1)\n",
    "    return [scores.mean(), scores.std()]\n",
    "\n",
    "\n",
    "sizes = [1000, 5000, 10000, 50000, 100000, 500000, 900000]\n",
    "means, stds = list(), list()\n",
    "for n_samples in sizes:\n",
    "    X, y = load_dataset(n_samples)\n",
    "    mean, std = evaluate_model(X, y)\n",
    "    means.append(mean)\n",
    "    stds.append(std)\n",
    "\n",
    "#PLOT (on logX scale)\n",
    "err = [min(1, s*2) for s in stds]\n",
    "pyplot.errorbar(sizes, means, yerr = err, fmt = '-o')\n",
    "ax = pyplot.gca()\n",
    "ax.set_xscale(\"log\", nonpositive = 'clip')\n",
    "pyplot.ylim([0.6,1.0])\n",
    "pyplot.xlabel('Data size')\n",
    "pyplot.ylabel('Performance')\n",
    "pyplot.title('Learning curve')\n",
    "pyplot.grid()\n",
    "pyplot.show()\n"
   ]
  },
  {
   "cell_type": "markdown",
   "metadata": {},
   "source": []
  },
  {
   "cell_type": "markdown",
   "metadata": {},
   "source": [
    "The trends of increasing mean model (classification & regression) performance with sample data size and decreasing model variance (measured using the standard deviation of accuracy) are seen.\n",
    "The estimated mean performance sees a drop-off with 10^6 rows of data, suggesting that the model might measure statistical noise in the estimate further. This hints an upper bound on model performance and it is likely that more data beyond this point will not improve the model with the chosen configuration."
   ]
  }
 ],
 "metadata": {
  "kernelspec": {
   "display_name": "Python 3",
   "language": "python",
   "name": "python3"
  },
  "language_info": {
   "codemirror_mode": {
    "name": "ipython",
    "version": 3
   },
   "file_extension": ".py",
   "mimetype": "text/x-python",
   "name": "python",
   "nbconvert_exporter": "python",
   "pygments_lexer": "ipython3",
   "version": "3.7.6"
  },
  "toc": {
   "base_numbering": 1,
   "nav_menu": {},
   "number_sections": true,
   "sideBar": true,
   "skip_h1_title": false,
   "title_cell": "Table of Contents",
   "title_sidebar": "Contents",
   "toc_cell": false,
   "toc_position": {},
   "toc_section_display": true,
   "toc_window_display": false
  },
  "varInspector": {
   "cols": {
    "lenName": 16,
    "lenType": 16,
    "lenVar": 40
   },
   "kernels_config": {
    "python": {
     "delete_cmd_postfix": "",
     "delete_cmd_prefix": "del ",
     "library": "var_list.py",
     "varRefreshCmd": "print(var_dic_list())"
    },
    "r": {
     "delete_cmd_postfix": ") ",
     "delete_cmd_prefix": "rm(",
     "library": "var_list.r",
     "varRefreshCmd": "cat(var_dic_list()) "
    }
   },
   "types_to_exclude": [
    "module",
    "function",
    "builtin_function_or_method",
    "instance",
    "_Feature"
   ],
   "window_display": false
  }
 },
 "nbformat": 4,
 "nbformat_minor": 4
}
